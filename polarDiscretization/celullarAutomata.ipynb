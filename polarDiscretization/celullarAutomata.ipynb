{
 "cells": [
  {
   "cell_type": "code",
   "execution_count": 1,
   "metadata": {},
   "outputs": [],
   "source": [
    "%matplotlib inline\n",
    "import numpy as np\n",
    "import matplotlib.pyplot as plt\n",
    "import matplotlib.colors"
   ]
  },
  {
   "cell_type": "markdown",
   "metadata": {},
   "source": [
    "# Cellular automata updating function\n",
    "\n",
    "As learned from the [*Modeling Complex System*](https://github.com/jlobatop/modeling-complex-systems) course I took, the cellular automata has some characteristics that must be defined before going on. \n",
    "\n",
    "* Updates will be done syncronously\n",
    "* Both types of neighborhoods will be tried when selecting the neighbors: von Nuemann and Moore\n",
    "* Boundaries willl be absorbing (i.e., walls)\n",
    "\n",
    "The function <tt>cellUpdate</tt> has the rules coded and it will update the cells."
   ]
  },
  {
   "cell_type": "code",
   "execution_count": 2,
   "metadata": {},
   "outputs": [],
   "source": [
    "def cellUpdate(target, neighbors, pD = 0.99, pB = 0.99):\n",
    "    '''Function to update the cells of the CA \n",
    "    \n",
    "    INPUTS:\n",
    "       target: target cell value\n",
    "       neighbors: numpy.ndarray with the corresponding neighbors\n",
    "       pD: probability of the fire of dying out (default = 0.99)\n",
    "       pB: burning probability of the fire (default = 0.99)\n",
    "       \n",
    "    OUTPUTS:\n",
    "       newState: state of the target cell after update'''\n",
    "    \n",
    "    # if the cell is empty\n",
    "    if target == 0:\n",
    "        # it will remain empty\n",
    "        newState = 0\n",
    "        \n",
    "    # if the cell is fire\n",
    "    if target == 1:\n",
    "        # it may go to empty\n",
    "        if np.random.rand() < pD:\n",
    "            newState = 0\n",
    "        # or it may stay as fire\n",
    "        else:\n",
    "            newState = 1\n",
    "            \n",
    "    # if the cell is fuel\n",
    "    if target == 2:\n",
    "        # neighbor comparison, if there are any 0 or 1\n",
    "        if np.logical_or(neighbors == 0, neighbors == 1).sum() != 0:\n",
    "            # it may get in fire\n",
    "            if np.random.rand() < pB:\n",
    "                newState = 1\n",
    "            # or it may stay as fuel \n",
    "            else:\n",
    "                newState = 2\n",
    "        # if there are no 'fire' nor 'empty', it will remain as fuel\n",
    "        else:\n",
    "            newState = 2\n",
    "            \n",
    "    return newState"
   ]
  },
  {
   "cell_type": "markdown",
   "metadata": {},
   "source": [
    "# Cellular automata initialization\n",
    "The initialization will be done by importing different binary files with arrays of 0 and 1, multiplying it by 2 to have fuel (<tt>2</tt>) and empty (<tt>0</tt>) cells. The function must also ensure that the array is squared (so it can be easily plotted)."
   ]
  },
  {
   "cell_type": "code",
   "execution_count": 3,
   "metadata": {},
   "outputs": [],
   "source": [
    "def initialization(filename, route):\n",
    "    '''Function to update the cells of the CA \n",
    "    \n",
    "    INPUTS:\n",
    "        filename: name of the file with initialState as squared\n",
    "                  numpy.ndarray with 0 and 1\n",
    "        route: folder directory of the location\n",
    "\n",
    "    OUTPUTS:\n",
    "       initialState: corrected file to have only 0 and 2'''\n",
    "    \n",
    "    # load the textfile with the desired name\n",
    "    initialState = np.loadtxt(route+filename)\n",
    "    \n",
    "    # check that the array is squared\n",
    "    if initialState.shape[0] != initialState.shape[1]:\n",
    "        # if it is not squared, raise an error\n",
    "        raise ValueError('Array has not a squared shape')\n",
    "    # otherwise, return the corrected fuel-empty array\n",
    "    return 2*initialState"
   ]
  },
  {
   "cell_type": "markdown",
   "metadata": {},
   "source": [
    "# Cellular automata loop\n",
    "In this case, the stop condition will be when there are nothing but 0's in the state matrix. So a <tt>while</tt> loop will be used."
   ]
  },
  {
   "cell_type": "code",
   "execution_count": 4,
   "metadata": {
    "scrolled": false
   },
   "outputs": [],
   "source": [
    "# create a list to store the states along time\n",
    "states = []\n",
    "\n",
    "# select the type of neighborhood ('moore' or 'vonNeumann')\n",
    "neighborhoodType = 'vonNeumann'\n",
    "\n",
    "# load the example 'tubular' file\n",
    "filename = 'doubleAnchor'\n",
    "states.append(initialization(filename, './examples/'))\n",
    "\n",
    "# preallocate space for the intermediate state\n",
    "intState = np.zeros((states[0].shape))\n",
    "\n",
    "# time counter\n",
    "t = 0\n",
    "\n",
    "# loop until there are only zeros in the state\n",
    "while np.sum(states[t] == 0) != states[t].shape[0]**2:\n",
    "    \n",
    "    # loop over all the cells of the array\n",
    "    # i direction is the tangential direction\n",
    "    for i in range(states[t].shape[0]):\n",
    "        \n",
    "        # j direction is the ratial way\n",
    "        for j in range(states[t].shape[1]):\n",
    "\n",
    "            # get te neighbors for the two possible types of neighborhood\n",
    "            \n",
    "            # abs((i+1) % states[t].shape[0]) is there for the case where\n",
    "            # i = states[t].shape[0]-1 which will return error for invalid index \n",
    "            \n",
    "            # More neighborhood type selection\n",
    "            if neighborhoodType == 'moore':\n",
    "                # if the index is zero, it will be the center    \n",
    "                if j == 0:\n",
    "                    neighbors = np.array([states[t][i-1,j],states[t][i-1,j+1],\n",
    "                                          states[t][i,j+1],\n",
    "                                          states[t][abs((i+1) % states[t].shape[0]),j],\n",
    "                                          states[t][abs((i+1) % states[t].shape[0]),j+1]])\n",
    "                # if the index is maximum, it will be the rocket wall\n",
    "                elif j == states[t].shape[1]-1:\n",
    "                    neighbors = np.array([states[t][i-1,j-1],states[t][i-1,j],\n",
    "                                          states[t][i,j-1],\n",
    "                                          states[t][abs((i+1) % states[t].shape[0]),j-1],\n",
    "                                          states[t][abs((i+1) % states[t].shape[0]),j]])\n",
    "                # for the 'i' direction the boundaries are connected\n",
    "                # so all the other cases will follow the same procedure\n",
    "                else:\n",
    "                    neighbors = np.array([states[t][i-1,j-1],states[t][i-1,j],states[t][i-1,j+1],\n",
    "                                          states[t][i,j-1],states[t][i,j+1],\n",
    "                                          states[t][abs((i+1) % states[t].shape[0]),j-1],\n",
    "                                          states[t][abs((i+1) % states[t].shape[0]),j],\n",
    "                                          states[t][abs((i+1) % states[t].shape[0]),j+1]])    \n",
    "\n",
    "            # von Neumann neighborhood type selection\n",
    "            else:\n",
    "                # if the index is zero, it will be the center    \n",
    "                if j == 0:\n",
    "                    neighbors = np.array([states[t][i-1,j],\n",
    "                                          states[t][abs((i+1) % states[t].shape[0]),j],\n",
    "                                          states[t][i,j+1]])\n",
    "                # if the index is maximum, it will be the rocket wall\n",
    "                elif j == states[t].shape[1]-1:\n",
    "                    neighbors = np.array([states[t][i-1,j],\n",
    "                                          states[t][abs((i+1) % states[t].shape[0]),j],\n",
    "                                          states[t][i,j-1]])\n",
    "                # for the 'i' direction the boundaries are connected (no constraints)\n",
    "                # so all the other cases will follow the same procedure\n",
    "                else:\n",
    "                    neighbors = np.array([states[t][i-1,j],\n",
    "                                          states[t][abs((i+1) % states[t].shape[0]),j],\n",
    "                                          states[t][i,j-1],states[t][i,j+1]])\n",
    "            \n",
    "            # compute the new value of the target cell\n",
    "            intState[i,j] = cellUpdate(states[t][i,j],neighbors)\n",
    "            \n",
    "    # once the whole array has been updatedd, append it to the list\n",
    "    states.append(np.copy(intState))\n",
    "        \n",
    "    # increase the time counter\n",
    "    t += 1"
   ]
  },
  {
   "cell_type": "markdown",
   "metadata": {},
   "source": [
    "# Normalize thrust computation\n",
    "To have the thrust profile curve, this will be computed with:\n",
    "$$\n",
    "T = I_{sp} g_0 \\dot{m}\n",
    "$$\n",
    "st roberts law definition and theory\n",
    "\n",
    "older approaches\n",
    "<tt>\n",
    "    # Ttilda = [(states[t]==1).sum() for t in range(len(states))]\n",
    "</tt>\n",
    "\n",
    "<tt>\n",
    "    # Ttilda = [(2*np.pi*r/N*states[t])[states[t]==1].sum() for t in range(len(states))]\n",
    "</tt>\n",
    "\n",
    "...\n",
    "\n",
    "(complete with drawings)"
   ]
  },
  {
   "cell_type": "code",
   "execution_count": 5,
   "metadata": {},
   "outputs": [],
   "source": [
    "def burningLength(state):\n",
    "    '''Calculation of the burning (area) length of each state\n",
    "    \n",
    "    INPUTS:\n",
    "        state: numpy.ndarray with the states (0,1,2) \n",
    "        \n",
    "    OUTPUTS:\n",
    "       burningLength: true burning length of the state'''\n",
    "    \n",
    "    # initial state have a burning length of zero\n",
    "    if len(np.unique(state)) == 2:\n",
    "        return 0\n",
    "    \n",
    "    # when there is burning length\n",
    "    else:\n",
    "        # get the number of divisions of the grid\n",
    "        N = state.shape[0]\n",
    "        # create the inter-cell radius \n",
    "        Rinter = np.linspace(0,1,N+1)\n",
    "        # copy the state matrix\n",
    "        mat = np.copy(state)\n",
    "        # replace the fuel cells with 'fire' cells \n",
    "        np.place(mat, mat==2, 1)\n",
    "        # radial direction variation\n",
    "        radDir = (np.abs(mat[:,0:-1]-mat[:,1:])*2*np.pi/N*Rinter[1:-1]).sum()\n",
    "        # tangential direction variation\n",
    "        tanDir = (np.abs(mat-np.vstack((mat[1:,:],mat[0,:])))/N).sum()\n",
    "        # return the sum of both fire fronts\n",
    "        return tanDir + radDir"
   ]
  },
  {
   "cell_type": "code",
   "execution_count": 6,
   "metadata": {},
   "outputs": [
    {
     "data": {
      "text/plain": [
       "[<matplotlib.lines.Line2D at 0x7fa206fd6710>]"
      ]
     },
     "execution_count": 6,
     "metadata": {},
     "output_type": "execute_result"
    },
    {
     "data": {
      "image/png": "[encoded data removed]",
      "text/plain": [
       "<Figure size 576x432 with 1 Axes>"
      ]
     },
     "metadata": {},
     "output_type": "display_data"
    }
   ],
   "source": [
    "# compute the normalized thrust\n",
    "Ttilda = np.array([burningLength(states[i]) for i in range(len(states))])\n",
    "\n",
    "# plot the thrust profile\n",
    "fig, ax = plt.subplots(1, figsize=(8,6))\n",
    "ax.set_xlabel('Iteration time', fontsize=14)\n",
    "ax.set_ylabel('$\\widetilde{T}$', fontsize=14)\n",
    "ax.set_title(filename, fontsize=16)\n",
    "ax.plot(Ttilda, 'k', lw=2)"
   ]
  }
 ],
 "metadata": {
  "kernelspec": {
   "display_name": "Python 3",
   "language": "python",
   "name": "python3"
  },
  "language_info": {
   "codemirror_mode": {
    "name": "ipython",
    "version": 3
   },
   "file_extension": ".py",
   "mimetype": "text/x-python",
   "name": "python",
   "nbconvert_exporter": "python",
   "pygments_lexer": "ipython3",
   "version": "3.6.1"
  }
 },
 "nbformat": 4,
 "nbformat_minor": 2
}
