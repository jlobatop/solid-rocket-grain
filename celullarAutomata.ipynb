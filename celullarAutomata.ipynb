{
 "cells": [
  {
   "cell_type": "code",
   "execution_count": 1,
   "metadata": {},
   "outputs": [],
   "source": [
    "%matplotlib inline\n",
    "import numpy as np\n",
    "import matplotlib.pyplot as plt\n",
    "import matplotlib.colors\n",
    "\n",
    "# use the libraries for animations in notebooks\n",
    "from matplotlib import animation, rc\n",
    "from IPython.display import HTML"
   ]
  },
  {
   "cell_type": "markdown",
   "metadata": {},
   "source": [
    "# Cellular automata updating function\n",
    "\n",
    "As learned from the [*Modeling Complex System*](https://github.com/jlobatop/modeling-complex-systems) course I took, the cellular automata has some characteristics that must be defined before going on. \n",
    "\n",
    "* Updates will be done syncronously\n",
    "* Both types of neighborhoods will be tried when selecting the neighbors: von Nuemann and Moore\n",
    "* Boundaries willl be absorbing (i.e., walls)\n",
    "\n",
    "The function <tt>cellUpdate</tt> has the rules coded and it will update the cells."
   ]
  },
  {
   "cell_type": "code",
   "execution_count": 2,
   "metadata": {},
   "outputs": [],
   "source": [
    "def cellUpdate(target, neighbors, pD = 0.99, pB = 0.99):\n",
    "    '''Function to update the cells of the CA \n",
    "    \n",
    "    INPUTS:\n",
    "       target: target cell value\n",
    "       neighbors: numpy.ndarray with the corresponding neighbors\n",
    "       state: state matrix with the initial state of the grain\n",
    "       pD: probability of the fire of dying out (default = 0.99)\n",
    "       pB: burning probability of the fire (default = 0.99)\n",
    "       \n",
    "    OUTPUTS:\n",
    "       newState: state of the target cell after update'''\n",
    "    \n",
    "    # if the cell is empty\n",
    "    if target == 0:\n",
    "        # it will remain empty\n",
    "        newState = 0\n",
    "        \n",
    "    # if the cell is fire\n",
    "    if target == 1:\n",
    "        # it may go to empty\n",
    "        if np.random.rand() < pD:\n",
    "            newState = 0\n",
    "        # or it may stay as fire\n",
    "        else:\n",
    "            newState = 1\n",
    "            \n",
    "    # if the cell is fuel\n",
    "    if target == 2:\n",
    "        # neighbor comparison, if there are any 0 or 1\n",
    "        if np.logical_or(neighbors == 0, neighbors == 1).sum() != 0:\n",
    "            # it may get in fire\n",
    "            if np.random.rand() < pB:\n",
    "                newState = 1\n",
    "            # or it may stay as fuel \n",
    "            else:\n",
    "                newState = 2\n",
    "        # if there are no 'fire' nor 'empty', it will remain as fuel\n",
    "        else:\n",
    "            newState = 2\n",
    "            \n",
    "    return newState"
   ]
  },
  {
   "cell_type": "markdown",
   "metadata": {},
   "source": [
    "# Cellular automata initialization\n",
    "The initialization will be done by importing different binary files with arrays of 0 and 1, multiplying it by 2 to have fuel (<tt>2</tt>) and empty (<tt>0</tt>) cells. The function must also ensure that the array is squared (so it can be easily plotted)."
   ]
  },
  {
   "cell_type": "code",
   "execution_count": 3,
   "metadata": {},
   "outputs": [],
   "source": [
    "def initialization(filename):\n",
    "    '''Function to update the cells of the CA \n",
    "    \n",
    "    INPUTS:\n",
    "        filename: name of the file with initialState as squared\n",
    "                  numpy.ndarray with 0 and 1\n",
    "\n",
    "    OUTPUTS:\n",
    "       initialState: corrected file to have only 0 and 2'''\n",
    "    \n",
    "    # load the textfile with the desired name\n",
    "    initialState = np.loadtxt(filename)\n",
    "    \n",
    "    # check that the array is squared\n",
    "    if initialState.shape[0] != initialState.shape[1]:\n",
    "        # if it is not squared, raise an error\n",
    "        raise ValueError('Array has not a squared shape')\n",
    "    # otherwise, return the corrected fuel-empty array\n",
    "    return 2*initialState"
   ]
  },
  {
   "cell_type": "markdown",
   "metadata": {},
   "source": [
    "# Cellular automata loop\n",
    "In this case, the stop condition will be when there are nothing but 0's in the state matrix. So a <tt>while</tt> loop will be used."
   ]
  },
  {
   "cell_type": "code",
   "execution_count": 4,
   "metadata": {
    "scrolled": false
   },
   "outputs": [],
   "source": [
    "# create a list to store the states along time\n",
    "states = []\n",
    "\n",
    "# select the type of neighborhood ('moore' or 'vonNeumann')\n",
    "neighborhoodType = 'vonNeumann'\n",
    "\n",
    "# load the example 'tubular' file\n",
    "filename = 'rodTube'\n",
    "states.append(initialization(filename))\n",
    "\n",
    "# preallocate space for the intermediate state\n",
    "intState = np.zeros((states[0].shape))\n",
    "\n",
    "# time counter\n",
    "t = 0\n",
    "\n",
    "# loop until there are only zeros in the state\n",
    "while np.sum(states[t] == 0) != states[t].shape[0]**2:\n",
    "    \n",
    "    # loop over all the cells of the array\n",
    "    # i direction is the tangential direction\n",
    "    for i in range(states[t].shape[0]):\n",
    "        \n",
    "        # j direction is the ratial way\n",
    "        for j in range(states[t].shape[1]):\n",
    "\n",
    "            # get te neighbors for the two possible types of neighborhood\n",
    "            \n",
    "            # abs((i+1) % states[t].shape[0]) is there for the case where\n",
    "            # i = states[t].shape[0]-1 which will return error for invalid index \n",
    "            \n",
    "            # More neighborhood type selection\n",
    "            if neighborhoodType == 'moore':\n",
    "                # if the index is zero, it will be the center    \n",
    "                if j == 0:\n",
    "                    neighbors = np.array([states[t][i-1,j],states[t][i-1,j+1],\n",
    "                                          states[t][i,j+1],\n",
    "                                          states[t][abs((i+1) % states[t].shape[0]),j],\n",
    "                                          states[t][abs((i+1) % states[t].shape[0]),j+1]])\n",
    "                # if the index is maximum, it will be the rocket wall\n",
    "                elif j == states[t].shape[1]-1:\n",
    "                    neighbors = np.array([states[t][i-1,j-1],states[t][i-1,j],\n",
    "                                          states[t][i,j-1],\n",
    "                                          states[t][abs((i+1) % states[t].shape[0]),j-1],\n",
    "                                          states[t][abs((i+1) % states[t].shape[0]),j]])\n",
    "                # for the 'i' direction the boundaries are connected\n",
    "                # so all the other cases will follow the same procedure\n",
    "                else:\n",
    "                    neighbors = np.array([states[t][i-1,j-1],states[t][i-1,j],states[t][i-1,j+1],\n",
    "                                          states[t][i,j-1],states[t][i,j+1],\n",
    "                                          states[t][abs((i+1) % states[t].shape[0]),j-1],\n",
    "                                          states[t][abs((i+1) % states[t].shape[0]),j],\n",
    "                                          states[t][abs((i+1) % states[t].shape[0]),j+1]])    \n",
    "\n",
    "            # von Neumann neighborhood type selection\n",
    "            else:\n",
    "                # if the index is zero, it will be the center    \n",
    "                if j == 0:\n",
    "                    neighbors = np.array([states[t][i-1,j],\n",
    "                                          states[t][abs((i+1) % states[t].shape[0]),j],\n",
    "                                          states[t][i,j+1]])\n",
    "                # if the index is maximum, it will be the rocket wall\n",
    "                elif j == states[t].shape[1]-1:\n",
    "                    neighbors = np.array([states[t][i-1,j],\n",
    "                                          states[t][abs((i+1) % states[t].shape[0]),j],\n",
    "                                          states[t][i,j-1]])\n",
    "                # for the 'i' direction the boundaries are connected (no constraints)\n",
    "                # so all the other cases will follow the same procedure\n",
    "                else:\n",
    "                    neighbors = np.array([states[t][i-1,j],\n",
    "                                          states[t][abs((i+1) % states[t].shape[0]),j],\n",
    "                                          states[t][i,j-1],states[t][i,j+1]])\n",
    "            \n",
    "            # compute the new value of the target cell\n",
    "            intState[i,j] = cellUpdate(states[t][i,j],neighbors)\n",
    "            \n",
    "    # once the whole array has been updatedd, append it to the list\n",
    "    states.append(np.copy(intState))\n",
    "        \n",
    "    # increase the time counter\n",
    "    t += 1"
   ]
  },
  {
   "cell_type": "code",
   "execution_count": 5,
   "metadata": {},
   "outputs": [],
   "source": [
    "def burningState(r, theta, state, iteration, savefigure = False):\n",
    "    '''Plotting of a state (t) of the grain distribution whereas burning\n",
    "\n",
    "    INPUTS:\n",
    "       r: 1D array with the coordinates of the radial position\n",
    "       theta: 1D array with the coordinates of the tangential position\n",
    "       state: state matrix with the current state of the grain\n",
    "       iteration: number of the iteration for saving the figure (when desired)\n",
    "\n",
    "    OPTIONAL INPUTS:\n",
    "        savefigure (default=False): flag to save the iteration figure\n",
    "\n",
    "    OUTPUTS:\n",
    "       just a plot with the figure'''\n",
    "    \n",
    "    # using squared matrix, the dimension will be NxN, so get it from R\n",
    "    N = len(r)\n",
    "    \n",
    "    # create the meshgrid with the 1D arrays\n",
    "    R, TH = np.meshgrid(r,theta)\n",
    "    \n",
    "    # given that the array is created without 2*np.pi, let's complete the \n",
    "    # circle to create the contour by setting the same values in the state\n",
    "    # for 0 and for 2*np.pi (correcting also the other arrays)\n",
    "    FTH = np.vstack((TH, np.ones(N)*2*np.pi))\n",
    "    FR = np.vstack((R, np.ones(N)*R[0,:]))\n",
    "    Fst = np.reshape(np.append(state,state[0,:]),(N+1,N))\n",
    "\n",
    "    # plot the state with a custom colormap\n",
    "    fig = plt.figure(1, figsize = (15,15), dpi = 50)\n",
    "    ax = plt.subplot(111, projection = 'polar')\n",
    "    ax.contourf(FTH, FR, Fst, 2, cmap = grainStates, norm = norm)\n",
    "    ax.set_yticklabels([])\n",
    "    ax.set_xticklabels([])\n",
    "    ax.grid(False)\n",
    "    \n",
    "    # save the figure if it explicitilly said\n",
    "    if savefigure:\n",
    "        plt.savefig('state%i.png' %iteration, bbox_inches='tight')"
   ]
  },
  {
   "cell_type": "code",
   "execution_count": 6,
   "metadata": {},
   "outputs": [],
   "source": [
    "N = states[0].shape[0]"
   ]
  },
  {
   "cell_type": "code",
   "execution_count": 7,
   "metadata": {},
   "outputs": [],
   "source": [
    "levels = [0, 0.5, 1.5, 2.5]\n",
    "colors = ['white', 'red', [0.4,0.4,0.4]]\n",
    "grainStates, norm = matplotlib.colors.from_levels_and_colors(levels, colors)"
   ]
  },
  {
   "cell_type": "code",
   "execution_count": 8,
   "metadata": {},
   "outputs": [],
   "source": [
    "# linspace for the radial direction\n",
    "r = np.linspace(0,1,N)\n",
    "\n",
    "# tangential direction (avoiding computation of the 0 = 2*np.pi)\n",
    "theta = np.linspace(0,2*np.pi*(N-1)/N,N)"
   ]
  },
  {
   "cell_type": "code",
   "execution_count": 9,
   "metadata": {},
   "outputs": [
    {
     "name": "stderr",
     "output_type": "stream",
     "text": [
      "/home/jlobatop/anaconda3/lib/python3.6/site-packages/matplotlib/cbook/deprecation.py:107: MatplotlibDeprecationWarning: Adding an axes using the same arguments as a previous axes currently reuses the earlier instance.  In a future version, a new instance will always be created and returned.  Meanwhile, this warning can be suppressed, and the future behavior ensured, by passing a unique label to each axes instance.\n",
      "  warnings.warn(message, mplDeprecation, stacklevel=1)\n"
     ]
    },
    {
     "data": {
      "image/png": "[encoded data removed]",
      "text/plain": [
       "<Figure size 750x750 with 1 Axes>"
      ]
     },
     "metadata": {},
     "output_type": "display_data"
    }
   ],
   "source": [
    "[burningState(r,theta,states[i],i,savefigure=True) for i in range(len(states))];"
   ]
  },
  {
   "cell_type": "markdown",
   "metadata": {},
   "source": [
    "os.system\n",
    "convert -delay 2  $(ls -v state*.png) tubular.gif"
   ]
  },
  {
   "cell_type": "markdown",
   "metadata": {},
   "source": [
    "# Normalize thrust computation\n",
    "To have the thrust profile curve, this will be computed with:\n",
    "$$\n",
    "T = I_{sp} g_0 \\dot{m}\n",
    "$$\n",
    "st roberts law"
   ]
  },
  {
   "cell_type": "code",
   "execution_count": 10,
   "metadata": {
    "scrolled": true
   },
   "outputs": [
    {
     "data": {
      "text/plain": [
       "[<matplotlib.lines.Line2D at 0x7fa6181a8e10>]"
      ]
     },
     "execution_count": 10,
     "metadata": {},
     "output_type": "execute_result"
    },
    {
     "data": {
      "image/png": "[encoded data removed]",
      "text/plain": [
       "<Figure size 432x288 with 1 Axes>"
      ]
     },
     "metadata": {},
     "output_type": "display_data"
    }
   ],
   "source": [
    "# Ttilda = [(states[t]==1).sum() for t in range(len(states))]\n",
    "Ttilda = [(2*np.pi*r/states[t].shape[0]*states[t])[states[t]==1].sum() for t in range(len(states))]\n",
    "plt.plot(Ttilda)\n"
   ]
  },
  {
   "cell_type": "code",
   "execution_count": 11,
   "metadata": {},
   "outputs": [
    {
     "data": {
      "text/plain": [
       "634.8921051677688"
      ]
     },
     "execution_count": 11,
     "metadata": {},
     "output_type": "execute_result"
    }
   ],
   "source": [
    "np.array(Ttilda).sum()"
   ]
  },
  {
   "cell_type": "code",
   "execution_count": null,
   "metadata": {},
   "outputs": [],
   "source": []
  },
  {
   "cell_type": "code",
   "execution_count": null,
   "metadata": {},
   "outputs": [],
   "source": []
  },
  {
   "cell_type": "code",
   "execution_count": null,
   "metadata": {},
   "outputs": [],
   "source": []
  },
  {
   "cell_type": "code",
   "execution_count": null,
   "metadata": {},
   "outputs": [],
   "source": []
  },
  {
   "cell_type": "code",
   "execution_count": 25,
   "metadata": {},
   "outputs": [
    {
     "data": {
      "text/plain": [
       "698.3093795211973"
      ]
     },
     "execution_count": 25,
     "metadata": {},
     "output_type": "execute_result"
    }
   ],
   "source": [
    "np.array(Ttilda).sum()"
   ]
  },
  {
   "cell_type": "code",
   "execution_count": null,
   "metadata": {},
   "outputs": [],
   "source": []
  }
 ],
 "metadata": {
  "kernelspec": {
   "display_name": "Python 3",
   "language": "python",
   "name": "python3"
  },
  "language_info": {
   "codemirror_mode": {
    "name": "ipython",
    "version": 3
   },
   "file_extension": ".py",
   "mimetype": "text/x-python",
   "name": "python",
   "nbconvert_exporter": "python",
   "pygments_lexer": "ipython3",
   "version": "3.6.1"
  }
 },
 "nbformat": 4,
 "nbformat_minor": 2
}
