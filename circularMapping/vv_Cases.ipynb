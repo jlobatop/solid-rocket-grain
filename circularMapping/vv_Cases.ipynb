{
 "cells": [
  {
   "cell_type": "markdown",
   "metadata": {},
   "source": [
    "# Validation and verification cases"
   ]
  },
  {
   "cell_type": "code",
   "execution_count": 1,
   "metadata": {},
   "outputs": [],
   "source": [
    "import numpy as np\n",
    "import matplotlib.pyplot as plt"
   ]
  },
  {
   "cell_type": "code",
   "execution_count": 2,
   "metadata": {},
   "outputs": [],
   "source": [
    "# number of points per axis (total points will be N^N)\n",
    "N = 250\n",
    "\n",
    "# square horizontal (x) and vertical (y) axis\n",
    "x = np.linspace(-1,1,N)\n",
    "y = -np.linspace(-1,1,N)\n",
    "\n",
    "# square meshgrid\n",
    "X, Y = np.meshgrid(x,y)"
   ]
  },
  {
   "cell_type": "code",
   "execution_count": 3,
   "metadata": {},
   "outputs": [],
   "source": [
    "# square polar meshgrid\n",
    "r = np.sqrt(X**2+Y**2)\n",
    "theta = np.arctan(Y/X)"
   ]
  },
  {
   "cell_type": "code",
   "execution_count": 4,
   "metadata": {},
   "outputs": [],
   "source": [
    "# circle meshgrid (from squared meshgrid)\n",
    "U = X*np.sqrt(1-Y**2/2)\n",
    "V = Y*np.sqrt(1-X**2/2)"
   ]
  },
  {
   "cell_type": "markdown",
   "metadata": {},
   "source": [
    "To provide validation and verification, some [well-known examples](http://www.braeunig.us/space/pics/fig1-14.gif) will be defined and simulated."
   ]
  },
  {
   "cell_type": "markdown",
   "metadata": {},
   "source": [
    "## Tubular grain distribution"
   ]
  },
  {
   "cell_type": "code",
   "execution_count": 5,
   "metadata": {},
   "outputs": [],
   "source": [
    "# select the radius of the inner hole\n",
    "a = r<0.25\n",
    "\n",
    "# create a full fueled square\n",
    "Z = 2*np.ones(U.shape)\n",
    "# remove the hole for grain distribution\n",
    "Z[a] = 0"
   ]
  },
  {
   "cell_type": "code",
   "execution_count": 6,
   "metadata": {},
   "outputs": [],
   "source": [
    "# save the tubular distribution initialization file\n",
    "np.savetxt('./examples/tubular', Z)"
   ]
  },
  {
   "cell_type": "code",
   "execution_count": 7,
   "metadata": {},
   "outputs": [
    {
     "data": {
      "image/png": "[encoded data removed]",
      "text/plain": [
       "<Figure size 648x288 with 2 Axes>"
      ]
     },
     "metadata": {},
     "output_type": "display_data"
    }
   ],
   "source": [
    "# plot the tubular distribution\n",
    "fig, ax = plt.subplots(1, 2,figsize=(9,4))\n",
    "ax[0].contourf(X,Y,Z,cmap = plt.cm.get_cmap('binary_r'))\n",
    "ax[1].contourf(U,V,Z,cmap = plt.cm.get_cmap('binary'))\n",
    "ax[0].axis('off')\n",
    "ax[1].axis('off')\n",
    "ax[0].axis('equal')\n",
    "ax[1].axis('equal');"
   ]
  },
  {
   "cell_type": "markdown",
   "metadata": {},
   "source": [
    "## Rod and tube grain distribution"
   ]
  },
  {
   "cell_type": "code",
   "execution_count": 8,
   "metadata": {},
   "outputs": [],
   "source": [
    "# select the radius of the inner and outer cutss\n",
    "b = np.logical_and(r<0.55, r>0.45)\n",
    "\n",
    "# create a full fueled square\n",
    "Z = 2*np.ones(U.shape)\n",
    "# remove the hole for grain distribution\n",
    "Z[b] = 0"
   ]
  },
  {
   "cell_type": "code",
   "execution_count": 9,
   "metadata": {},
   "outputs": [],
   "source": [
    "# save the rodTube distribution initialization file\n",
    "np.savetxt('./examples/rodTube', Z)"
   ]
  },
  {
   "cell_type": "code",
   "execution_count": 10,
   "metadata": {},
   "outputs": [
    {
     "data": {
      "image/png": "[encoded data removed]",
      "text/plain": [
       "<Figure size 648x288 with 2 Axes>"
      ]
     },
     "metadata": {},
     "output_type": "display_data"
    }
   ],
   "source": [
    "# plot the rodTube distribution\n",
    "fig, ax = plt.subplots(1, 2,figsize=(9,4))\n",
    "ax[0].contourf(X,Y,Z,cmap = plt.cm.get_cmap('binary_r'))\n",
    "ax[1].contourf(U,V,Z,cmap = plt.cm.get_cmap('binary'))\n",
    "ax[0].axis('off')\n",
    "ax[1].axis('off')\n",
    "ax[0].axis('equal')\n",
    "ax[1].axis('equal');"
   ]
  },
  {
   "cell_type": "markdown",
   "metadata": {},
   "source": [
    "## Star grain distribution"
   ]
  },
  {
   "cell_type": "code",
   "execution_count": 11,
   "metadata": {},
   "outputs": [],
   "source": [
    "# star of N points\n",
    "N = 5\n",
    "# finger width (rad)\n",
    "w = 0.2\n",
    "# inner circle\n",
    "r0 = 0.07\n",
    "# outer circle\n",
    "r1 = 0.3"
   ]
  },
  {
   "cell_type": "code",
   "execution_count": 12,
   "metadata": {},
   "outputs": [],
   "source": [
    "# create a linspace of the angles if 2pi is divided in N+1\n",
    "angles = np.linspace(0,2*np.pi,N+1)[:-1]\n",
    "\n",
    "# make a copy of those angles\n",
    "correctedAngles = np.copy(angles)\n",
    "# given that theta is defined between -90 and 90, let's correct the angles\n",
    "correctedAngles[np.logical_and(3*np.pi/2 > angles, angles > np.pi/2)] -= np.pi\n",
    "correctedAngles[3*np.pi/2 < angles] -= 2*np.pi\n",
    "\n",
    "# add the width to the angles\n",
    "initAngle = correctedAngles - w\n",
    "endAngle = correctedAngles + w\n",
    "\n",
    "# if the N divisions go through 90 or 180, correct the angles\n",
    "initAngle[angles == np.pi/2] = np.pi/2 - w\n",
    "initAngle[angles == 3*np.pi/2] = np.pi/2 - w\n",
    "endAngle[angles == np.pi/2] = -np.pi/2 + w\n",
    "endAngle[angles == 3*np.pi/2] = -np.pi/2 + w\n",
    "\n",
    "# list to store boolean matrix for each N divisions\n",
    "finger = []\n",
    "\n",
    "# append the different 'fingers'\n",
    "for i in range(N):\n",
    "    # if the angle is on the positive x-axis \n",
    "    if angles[i] < np.pi/2 or angles[i] > 3*np.pi/2:\n",
    "        # the boolean matrix is formed by the union of a circle of radius r1 and positive x\n",
    "        finger.append(np.logical_and(np.logical_and(x>0,r<r1),\n",
    "        # and the space located between the angles of the lists\n",
    "                                     np.logical_and(theta>initAngle[i],theta<endAngle[i])))\n",
    "    # if the angle is exactly pi/2\n",
    "    elif angles[i] == np.pi/2:\n",
    "        finger.append(np.logical_and(np.logical_and(y>0,r<r1),\n",
    "                                     np.logical_or(theta>initAngle[i],theta<endAngle[i])))\n",
    "    # if the angle is exactly 3*pi/2\n",
    "    elif angles[i] == 3*np.pi/2:\n",
    "        finger.append(np.logical_and(np.logical_and(y<0,r<r1),\n",
    "                                     np.logical_or(theta>initAngle[i],theta<endAngle[i])))\n",
    "    # if the angle is on the negative x-axis \n",
    "    else:\n",
    "        finger.append(np.logical_and(np.logical_and(x<0,r<r1),\n",
    "                                     np.logical_and(theta>initAngle[i],theta<endAngle[i])))\n",
    "\n",
    "# create a full False array\n",
    "mat = False*np.ones(finger[0].shape)\n",
    "\n",
    "# apply the 'or' operator with all fingers and the preallocated array \n",
    "for i in range(len(finger)):\n",
    "    mat = np.logical_or(mat,finger[i])\n",
    "    \n",
    "# join the fingers with a centered circle of radius r0\n",
    "c = np.logical_or(mat, r<r0)\n",
    "\n",
    "# create a full fueled square\n",
    "Z = 2*np.ones(U.shape)\n",
    "# remove the hole for grain distribution\n",
    "Z[c] = 0"
   ]
  },
  {
   "cell_type": "code",
   "execution_count": 13,
   "metadata": {},
   "outputs": [],
   "source": [
    "# save the star distribution initialization file\n",
    "np.savetxt('./examples/star',Z)"
   ]
  },
  {
   "cell_type": "code",
   "execution_count": 14,
   "metadata": {},
   "outputs": [
    {
     "data": {
      "image/png": "[encoded data removed]",
      "text/plain": [
       "<Figure size 648x288 with 2 Axes>"
      ]
     },
     "metadata": {},
     "output_type": "display_data"
    }
   ],
   "source": [
    "# plot the star distribution\n",
    "fig, ax = plt.subplots(1, 2,figsize=(9,4))\n",
    "ax[0].contourf(X,Y,Z,cmap = plt.cm.get_cmap('binary_r'))\n",
    "ax[1].contourf(U,V,Z,cmap = plt.cm.get_cmap('binary'))\n",
    "ax[0].axis('off')\n",
    "ax[1].axis('off')\n",
    "ax[0].axis('equal')\n",
    "ax[1].axis('equal');"
   ]
  },
  {
   "cell_type": "markdown",
   "metadata": {},
   "source": [
    "## Cross grain distribution"
   ]
  },
  {
   "cell_type": "code",
   "execution_count": 15,
   "metadata": {},
   "outputs": [],
   "source": [
    "# select the width of the castings\n",
    "w = 0.07\n",
    "\n",
    "# create a boolean matrix \n",
    "d = np.logical_or(np.logical_and(-w < Y,Y < w),np.logical_and(-w < X,X < w))\n",
    "\n",
    "# create a full fueled square\n",
    "Z = 2*np.ones(U.shape)\n",
    "# remove the hole for grain distribution\n",
    "Z[d] = 0"
   ]
  },
  {
   "cell_type": "code",
   "execution_count": 16,
   "metadata": {},
   "outputs": [],
   "source": [
    "# save the cross distribution initialization file\n",
    "np.savetxt('./examples/cross',Z)"
   ]
  },
  {
   "cell_type": "code",
   "execution_count": 17,
   "metadata": {},
   "outputs": [
    {
     "data": {
      "image/png": "[encoded data removed]",
      "text/plain": [
       "<Figure size 648x288 with 2 Axes>"
      ]
     },
     "metadata": {},
     "output_type": "display_data"
    }
   ],
   "source": [
    "# plot the cross distribution\n",
    "fig, ax = plt.subplots(1, 2,figsize=(9,4))\n",
    "ax[0].contourf(X,Y,Z,cmap = plt.cm.get_cmap('binary_r'))\n",
    "ax[1].contourf(U,V,Z,cmap = plt.cm.get_cmap('binary'))\n",
    "ax[0].axis('off')\n",
    "ax[1].axis('off')\n",
    "ax[0].axis('equal')\n",
    "ax[1].axis('equal');"
   ]
  },
  {
   "cell_type": "markdown",
   "metadata": {},
   "source": [
    "## Double anchor grain distribution"
   ]
  },
  {
   "cell_type": "code",
   "execution_count": 18,
   "metadata": {},
   "outputs": [],
   "source": [
    "# inner radius of the anchor\n",
    "r0 = 0.6\n",
    "# outer radius of the anchor\n",
    "r1 = 0.5\n",
    "# length of the anchor\n",
    "l = 0.3\n",
    "# width of the center line\n",
    "w = 0.05\n",
    "\n",
    "# center line\n",
    "f1 = np.logical_and(np.logical_and(X<w, -w<X),np.logical_and(Y<r1, -r1<Y))\n",
    "# upper anchor\n",
    "f2 = np.logical_and(np.logical_and(r<r0, r>r1),Y>r0-l)\n",
    "# lower anchor\n",
    "f3 = np.logical_and(np.logical_and(r<r0, r>r1),Y<l-r0)\n",
    "\n",
    "# join all three parts\n",
    "f = np.logical_or(np.logical_or(f1,f2),f3)\n",
    "\n",
    "# create a full fueled square\n",
    "Z = 2*np.ones(U.shape)\n",
    "# remove the hole for grain distribution\n",
    "Z[f] = 0"
   ]
  },
  {
   "cell_type": "code",
   "execution_count": 19,
   "metadata": {},
   "outputs": [],
   "source": [
    "# save the doubleAnchor distribution initialization file\n",
    "np.savetxt('./examples/doubleAnchor',Z)"
   ]
  },
  {
   "cell_type": "code",
   "execution_count": 20,
   "metadata": {},
   "outputs": [
    {
     "data": {
      "image/png": "[encoded data removed]",
      "text/plain": [
       "<Figure size 648x288 with 2 Axes>"
      ]
     },
     "metadata": {},
     "output_type": "display_data"
    }
   ],
   "source": [
    "# plot the doubleAnchor distribution\n",
    "fig, ax = plt.subplots(1, 2,figsize=(9,4))\n",
    "ax[0].contourf(X,Y,Z,cmap = plt.cm.get_cmap('binary_r'))\n",
    "ax[1].contourf(U,V,Z,cmap = plt.cm.get_cmap('binary'))\n",
    "ax[0].axis('off')\n",
    "ax[1].axis('off')\n",
    "ax[0].axis('equal')\n",
    "ax[1].axis('equal');"
   ]
  },
  {
   "cell_type": "markdown",
   "metadata": {},
   "source": [
    "## Jellyfish grain distribution"
   ]
  },
  {
   "cell_type": "markdown",
   "metadata": {},
   "source": [
    "This is the same as for *star*, but parameters have been tweaked to have different shape"
   ]
  },
  {
   "cell_type": "code",
   "execution_count": 21,
   "metadata": {},
   "outputs": [],
   "source": [
    "# star of N points\n",
    "N = 12\n",
    "# finger width (rad)\n",
    "w = 0.12\n",
    "# inner circle\n",
    "r0 = 0.4\n",
    "# outer circle\n",
    "r1 = 0.6"
   ]
  },
  {
   "cell_type": "code",
   "execution_count": 22,
   "metadata": {},
   "outputs": [],
   "source": [
    "# create a linspace of the angles if 2pi is divided in N+1\n",
    "angles = np.linspace(0,2*np.pi,N+1)[:-1]\n",
    "\n",
    "# make a copy of those angles\n",
    "correctedAngles = np.copy(angles)\n",
    "# given that theta is defined between -90 and 90, let's correct the angles\n",
    "correctedAngles[np.logical_and(3*np.pi/2 > angles, angles > np.pi/2)] -= np.pi\n",
    "correctedAngles[3*np.pi/2 < angles] -= 2*np.pi\n",
    "\n",
    "# add the width to the angles\n",
    "initAngle = correctedAngles - w\n",
    "endAngle = correctedAngles + w\n",
    "\n",
    "# if the N divisions go through 90 or 180, correct the angles\n",
    "initAngle[angles == np.pi/2] = np.pi/2 - w\n",
    "initAngle[angles == 3*np.pi/2] = np.pi/2 - w\n",
    "endAngle[angles == np.pi/2] = -np.pi/2 + w\n",
    "endAngle[angles == 3*np.pi/2] = -np.pi/2 + w\n",
    "\n",
    "# list to store boolean matrix for each N divisions\n",
    "finger = []\n",
    "\n",
    "# append the different 'fingers'\n",
    "for i in range(N):\n",
    "    # if the angle is on the positive x-axis \n",
    "    if angles[i] < np.pi/2 or angles[i] > 3*np.pi/2:\n",
    "        # the boolean matrix is formed by the union of a circle of radius r1 and positive x\n",
    "        finger.append(np.logical_and(np.logical_and(x>0,r<r1),\n",
    "        # and the space located between the angles of the lists\n",
    "                                     np.logical_and(theta>initAngle[i],theta<endAngle[i])))\n",
    "    # if the angle is exactly pi/2\n",
    "    elif angles[i] == np.pi/2:\n",
    "        finger.append(np.logical_and(np.logical_and(y>0,r<r1),\n",
    "                                     np.logical_or(theta>initAngle[i],theta<endAngle[i])))\n",
    "    # if the angle is exactly 3*pi/2\n",
    "    elif angles[i] == 3*np.pi/2:\n",
    "        finger.append(np.logical_and(np.logical_and(y<0,r<r1),\n",
    "                                     np.logical_or(theta>initAngle[i],theta<endAngle[i])))\n",
    "    # if the angle is on the negative x-axis \n",
    "    else:\n",
    "        finger.append(np.logical_and(np.logical_and(x<0,r<r1),\n",
    "                                     np.logical_and(theta>initAngle[i],theta<endAngle[i])))\n",
    "\n",
    "# create a full False array\n",
    "mat = False*np.ones(finger[0].shape)\n",
    "\n",
    "# apply the 'or' operator with all fingers and the preallocated array \n",
    "for i in range(len(finger)):\n",
    "    mat = np.logical_or(mat,finger[i])\n",
    "    \n",
    "# join the fingers with a centered circle of radius r0\n",
    "c = np.logical_or(mat, r<r0)\n",
    "\n",
    "# create a full fueled square\n",
    "Z = 2*np.ones(U.shape)\n",
    "# remove the hole for grain distribution\n",
    "Z[c] = 0"
   ]
  },
  {
   "cell_type": "code",
   "execution_count": 23,
   "metadata": {},
   "outputs": [],
   "source": [
    "# save the jellyfish distribution initialization file\n",
    "np.savetxt('./examples/jellyfish',Z)"
   ]
  },
  {
   "cell_type": "code",
   "execution_count": 24,
   "metadata": {},
   "outputs": [
    {
     "data": {
      "image/png": "[encoded data removed]",
      "text/plain": [
       "<Figure size 648x288 with 2 Axes>"
      ]
     },
     "metadata": {},
     "output_type": "display_data"
    }
   ],
   "source": [
    "# plot the jellyfish distribution\n",
    "fig, ax = plt.subplots(1, 2,figsize=(9,4))\n",
    "ax[0].contourf(X,Y,Z,cmap = plt.cm.get_cmap('binary_r'))\n",
    "ax[1].contourf(U,V,Z,cmap = plt.cm.get_cmap('binary'))\n",
    "ax[0].axis('off')\n",
    "ax[1].axis('off')\n",
    "ax[0].axis('equal')\n",
    "ax[1].axis('equal');"
   ]
  }
 ],
 "metadata": {
  "kernelspec": {
   "display_name": "Python 3",
   "language": "python",
   "name": "python3"
  },
  "language_info": {
   "codemirror_mode": {
    "name": "ipython",
    "version": 3
   },
   "file_extension": ".py",
   "mimetype": "text/x-python",
   "name": "python",
   "nbconvert_exporter": "python",
   "pygments_lexer": "ipython3",
   "version": "3.6.1"
  }
 },
 "nbformat": 4,
 "nbformat_minor": 2
}
